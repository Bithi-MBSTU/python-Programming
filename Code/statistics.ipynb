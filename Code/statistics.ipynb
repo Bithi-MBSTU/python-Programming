{
  "nbformat": 4,
  "nbformat_minor": 0,
  "metadata": {
    "colab": {
      "name": "statistics.ipynb",
      "provenance": []
    },
    "kernelspec": {
      "name": "python3",
      "display_name": "Python 3"
    }
  },
  "cells": [
    {
      "cell_type": "code",
      "metadata": {
        "id": "UdjhJeBfXUTr"
      },
      "source": [
        "a=[3,2,4,1,5,9,9,6,7,8]"
      ],
      "execution_count": 17,
      "outputs": []
    },
    {
      "cell_type": "code",
      "metadata": {
        "id": "es1PTcuNXkEY"
      },
      "source": [
        "import numpy as np"
      ],
      "execution_count": 8,
      "outputs": []
    },
    {
      "cell_type": "code",
      "metadata": {
        "colab": {
          "base_uri": "https://localhost:8080/"
        },
        "id": "ukRtp-CwXm8T",
        "outputId": "260a1650-a3cb-418d-95aa-4ee1b8865949"
      },
      "source": [
        "print(np.mean(a))"
      ],
      "execution_count": 9,
      "outputs": [
        {
          "output_type": "stream",
          "text": [
            "5.0\n"
          ],
          "name": "stdout"
        }
      ]
    },
    {
      "cell_type": "code",
      "metadata": {
        "colab": {
          "base_uri": "https://localhost:8080/"
        },
        "id": "bFJYAyyUXxCS",
        "outputId": "c31114da-c748-45a1-a278-024d89b473b6"
      },
      "source": [
        "print(np.median(a))"
      ],
      "execution_count": 10,
      "outputs": [
        {
          "output_type": "stream",
          "text": [
            "5.0\n"
          ],
          "name": "stdout"
        }
      ]
    },
    {
      "cell_type": "code",
      "metadata": {
        "id": "fRZkhLHyaVr0"
      },
      "source": [
        "import statistics"
      ],
      "execution_count": 18,
      "outputs": []
    },
    {
      "cell_type": "code",
      "metadata": {
        "colab": {
          "base_uri": "https://localhost:8080/"
        },
        "id": "d5sckRXTae9a",
        "outputId": "672a879c-197b-4ab8-d5bc-19a1b30200e0"
      },
      "source": [
        "print(statistics.mode(a))"
      ],
      "execution_count": 19,
      "outputs": [
        {
          "output_type": "stream",
          "text": [
            "9\n"
          ],
          "name": "stdout"
        }
      ]
    },
    {
      "cell_type": "code",
      "metadata": {
        "id": "vEtSu3x6blSm"
      },
      "source": [
        "n=np.arange(5,56,5)"
      ],
      "execution_count": 28,
      "outputs": []
    },
    {
      "cell_type": "code",
      "metadata": {
        "colab": {
          "base_uri": "https://localhost:8080/"
        },
        "id": "O9gJSGocbtYU",
        "outputId": "b0dacee8-a999-4839-f8fd-bdd13992afad"
      },
      "source": [
        "n"
      ],
      "execution_count": 29,
      "outputs": [
        {
          "output_type": "execute_result",
          "data": {
            "text/plain": [
              "array([ 5, 10, 15, 20, 25, 30, 35, 40, 45, 50, 55])"
            ]
          },
          "metadata": {
            "tags": []
          },
          "execution_count": 29
        }
      ]
    },
    {
      "cell_type": "code",
      "metadata": {
        "colab": {
          "base_uri": "https://localhost:8080/"
        },
        "id": "SJ5cqXgEcAXF",
        "outputId": "a1efebb2-0b1a-431e-fd1b-f3eeff13d9ff"
      },
      "source": [
        "np.random.randint(5,15,3)"
      ],
      "execution_count": 31,
      "outputs": [
        {
          "output_type": "execute_result",
          "data": {
            "text/plain": [
              "array([14, 13,  7])"
            ]
          },
          "metadata": {
            "tags": []
          },
          "execution_count": 31
        }
      ]
    },
    {
      "cell_type": "code",
      "metadata": {
        "colab": {
          "base_uri": "https://localhost:8080/"
        },
        "id": "PeZDxLRGcLcv",
        "outputId": "e7b7739b-f595-4b95-8b43-47994e2a254c"
      },
      "source": [
        "np.max(n)"
      ],
      "execution_count": 32,
      "outputs": [
        {
          "output_type": "execute_result",
          "data": {
            "text/plain": [
              "55"
            ]
          },
          "metadata": {
            "tags": []
          },
          "execution_count": 32
        }
      ]
    },
    {
      "cell_type": "code",
      "metadata": {
        "colab": {
          "base_uri": "https://localhost:8080/"
        },
        "id": "iLA7PgXZcPOQ",
        "outputId": "ec88d07d-c962-4c6f-f613-d4c522837c8d"
      },
      "source": [
        "np.min(n)"
      ],
      "execution_count": 33,
      "outputs": [
        {
          "output_type": "execute_result",
          "data": {
            "text/plain": [
              "5"
            ]
          },
          "metadata": {
            "tags": []
          },
          "execution_count": 33
        }
      ]
    },
    {
      "cell_type": "code",
      "metadata": {
        "colab": {
          "base_uri": "https://localhost:8080/"
        },
        "id": "CWSKEiTPcSdd",
        "outputId": "938f41f0-be9f-4fda-8a3f-675c30e18e30"
      },
      "source": [
        "np.sum(n)"
      ],
      "execution_count": 34,
      "outputs": [
        {
          "output_type": "execute_result",
          "data": {
            "text/plain": [
              "330"
            ]
          },
          "metadata": {
            "tags": []
          },
          "execution_count": 34
        }
      ]
    },
    {
      "cell_type": "code",
      "metadata": {
        "colab": {
          "base_uri": "https://localhost:8080/"
        },
        "id": "kK7KZZphdpzX",
        "outputId": "d53053d8-ed7d-48fe-f20c-da50cdb486ea"
      },
      "source": [
        "p = np.random.randn(30)\r\n",
        "q= np.random.choice(p,10)\r\n",
        "print('p = {} \\nq= {}'.format(p,q))\r\n",
        "print(np.var(p)) #variance\r\n",
        "print(np.var(q))\r\n",
        "print(np.std(p)) #standard deviation\r\n",
        "print(np.std(q))\r\n",
        "\r\n"
      ],
      "execution_count": 42,
      "outputs": [
        {
          "output_type": "stream",
          "text": [
            "p = [-1.4134519   0.94574881 -0.80133598  0.10919918  0.2821264  -1.17245772\n",
            "  0.20441193  0.3927644   1.00962756  0.3865275   0.57918021 -0.04457146\n",
            "  0.30680902 -1.33758845 -1.35056386  0.59701325 -1.61493443 -0.65063694\n",
            " -1.05264093  0.80213851  0.75271859 -0.98898828 -0.44741859  1.22166885\n",
            " -0.29409899  1.57790551 -0.88521185  1.78745428  1.38523521  0.61352523] \n",
            "q= [-1.4134519   0.94574881  0.3927644  -1.61493443  0.2821264   0.30680902\n",
            "  0.10919918 -0.98898828  0.75271859  1.38523521]\n",
            "0.9203292220917134\n",
            "0.9301303379989527\n",
            "0.9593379081907029\n",
            "0.9644326508362068\n"
          ],
          "name": "stdout"
        }
      ]
    },
    {
      "cell_type": "code",
      "metadata": {
        "id": "5JObxlqthHmk"
      },
      "source": [
        "dataset=[8,9,2,10,3,5,7,12,15]"
      ],
      "execution_count": 45,
      "outputs": []
    },
    {
      "cell_type": "code",
      "metadata": {
        "colab": {
          "base_uri": "https://localhost:8080/"
        },
        "id": "7ZepNtDshUxr",
        "outputId": "1178a7b6-e12d-4d16-aa80-5c739d608b68"
      },
      "source": [
        "print(np.std(dataset))\r\n",
        "print(np.var(dataset))"
      ],
      "execution_count": 46,
      "outputs": [
        {
          "output_type": "stream",
          "text": [
            "3.956554181058857\n",
            "15.654320987654321\n"
          ],
          "name": "stdout"
        }
      ]
    },
    {
      "cell_type": "code",
      "metadata": {
        "id": "jXxJ5hulhgTN"
      },
      "source": [
        "q1=np.percentile(dataset,25)"
      ],
      "execution_count": 47,
      "outputs": []
    },
    {
      "cell_type": "code",
      "metadata": {
        "colab": {
          "base_uri": "https://localhost:8080/"
        },
        "id": "SWbSLyCWhucc",
        "outputId": "cd10f4a4-89e6-40d1-e410-d50cb42e0a89"
      },
      "source": [
        "q1"
      ],
      "execution_count": 48,
      "outputs": [
        {
          "output_type": "execute_result",
          "data": {
            "text/plain": [
              "5.0"
            ]
          },
          "metadata": {
            "tags": []
          },
          "execution_count": 48
        }
      ]
    },
    {
      "cell_type": "code",
      "metadata": {
        "id": "XrvfqR1dhxKC"
      },
      "source": [
        "q2=np.percentile(dataset,50)"
      ],
      "execution_count": 49,
      "outputs": []
    },
    {
      "cell_type": "code",
      "metadata": {
        "colab": {
          "base_uri": "https://localhost:8080/"
        },
        "id": "U6I4hapiiAvY",
        "outputId": "847f5a30-848f-4182-832d-196f4219f9b6"
      },
      "source": [
        "q2"
      ],
      "execution_count": 50,
      "outputs": [
        {
          "output_type": "execute_result",
          "data": {
            "text/plain": [
              "8.0"
            ]
          },
          "metadata": {
            "tags": []
          },
          "execution_count": 50
        }
      ]
    },
    {
      "cell_type": "code",
      "metadata": {
        "id": "6018HaCHiCtR"
      },
      "source": [
        "q3=np.percentile(dataset,75)"
      ],
      "execution_count": 51,
      "outputs": []
    },
    {
      "cell_type": "code",
      "metadata": {
        "colab": {
          "base_uri": "https://localhost:8080/"
        },
        "id": "g5MSbgheiHdL",
        "outputId": "3205b681-d3cc-4e79-bc53-d4588dc5ad0c"
      },
      "source": [
        "q3"
      ],
      "execution_count": 52,
      "outputs": [
        {
          "output_type": "execute_result",
          "data": {
            "text/plain": [
              "10.0"
            ]
          },
          "metadata": {
            "tags": []
          },
          "execution_count": 52
        }
      ]
    }
  ]
}