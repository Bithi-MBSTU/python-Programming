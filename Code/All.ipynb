{
  "nbformat": 4,
  "nbformat_minor": 0,
  "metadata": {
    "colab": {
      "name": "All.ipynb",
      "provenance": []
    },
    "kernelspec": {
      "name": "python3",
      "display_name": "Python 3"
    }
  },
  "cells": [
    {
      "cell_type": "code",
      "metadata": {
        "colab": {
          "base_uri": "https://localhost:8080/"
        },
        "id": "cvy9x7-gi6PX",
        "outputId": "6c2b387a-6bce-4c9e-d8f3-096c2d5c4be9"
      },
      "source": [
        "x=int(input(\"Enter a value\"))\r\n",
        "print(x)"
      ],
      "execution_count": null,
      "outputs": [
        {
          "output_type": "stream",
          "text": [
            "Enter a value56\n",
            "56\n"
          ],
          "name": "stdout"
        }
      ]
    },
    {
      "cell_type": "code",
      "metadata": {
        "id": "DHBStgRZ2YTp"
      },
      "source": [
        "import numpy as np"
      ],
      "execution_count": null,
      "outputs": []
    },
    {
      "cell_type": "code",
      "metadata": {
        "id": "qV-3Xtqzn2Et"
      },
      "source": [
        "y=x+4"
      ],
      "execution_count": null,
      "outputs": []
    },
    {
      "cell_type": "code",
      "metadata": {
        "colab": {
          "base_uri": "https://localhost:8080/"
        },
        "id": "XkrgNkfjn4su",
        "outputId": "1b011c20-9086-4b26-87e9-9b2d28c2af37"
      },
      "source": [
        "y"
      ],
      "execution_count": null,
      "outputs": [
        {
          "output_type": "execute_result",
          "data": {
            "text/plain": [
              "60"
            ]
          },
          "metadata": {
            "tags": []
          },
          "execution_count": 3
        }
      ]
    },
    {
      "cell_type": "code",
      "metadata": {
        "id": "qcSS5p0BoA__"
      },
      "source": [
        "# Hello world"
      ],
      "execution_count": null,
      "outputs": []
    },
    {
      "cell_type": "code",
      "metadata": {
        "colab": {
          "base_uri": "https://localhost:8080/",
          "height": 35
        },
        "id": "Gb1JsIRNoFcf",
        "outputId": "e9755f74-33d1-483b-e06f-6a2d31b8cb45"
      },
      "source": [
        "'''multiple'''"
      ],
      "execution_count": null,
      "outputs": [
        {
          "output_type": "execute_result",
          "data": {
            "application/vnd.google.colaboratory.intrinsic+json": {
              "type": "string"
            },
            "text/plain": [
              "'multiple'"
            ]
          },
          "metadata": {
            "tags": []
          },
          "execution_count": 5
        }
      ]
    },
    {
      "cell_type": "code",
      "metadata": {
        "colab": {
          "base_uri": "https://localhost:8080/",
          "height": 35
        },
        "id": "Q6QE9VDGoJc0",
        "outputId": "90216ec5-dd57-463c-ddc1-7673ca944a64"
      },
      "source": [
        "a='Bithi\\'s code%'\r\n",
        "a"
      ],
      "execution_count": null,
      "outputs": [
        {
          "output_type": "execute_result",
          "data": {
            "application/vnd.google.colaboratory.intrinsic+json": {
              "type": "string"
            },
            "text/plain": [
              "\"Bithi's code%\""
            ]
          },
          "metadata": {
            "tags": []
          },
          "execution_count": 12
        }
      ]
    },
    {
      "cell_type": "code",
      "metadata": {
        "colab": {
          "base_uri": "https://localhost:8080/"
        },
        "id": "9joFobF7okEs",
        "outputId": "7ef4cb43-4cff-43c1-cbd6-9f189592c5ab"
      },
      "source": [
        "id(x)"
      ],
      "execution_count": null,
      "outputs": [
        {
          "output_type": "execute_result",
          "data": {
            "text/plain": [
              "10916256"
            ]
          },
          "metadata": {
            "tags": []
          },
          "execution_count": 13
        }
      ]
    },
    {
      "cell_type": "code",
      "metadata": {
        "colab": {
          "base_uri": "https://localhost:8080/"
        },
        "id": "tcYWkT_Oo_Il",
        "outputId": "2355cff1-a372-4a4d-be0b-a761bd3bed46"
      },
      "source": [
        "print(x,y)"
      ],
      "execution_count": null,
      "outputs": [
        {
          "output_type": "stream",
          "text": [
            "56 60\n"
          ],
          "name": "stdout"
        }
      ]
    },
    {
      "cell_type": "code",
      "metadata": {
        "id": "F3tbTfPKpB_C"
      },
      "source": [
        "x,y,z=10,134,90"
      ],
      "execution_count": null,
      "outputs": []
    },
    {
      "cell_type": "code",
      "metadata": {
        "colab": {
          "base_uri": "https://localhost:8080/"
        },
        "id": "8pLXI8IVpE20",
        "outputId": "2fbed22b-baef-43bf-f907-5e89552881cf"
      },
      "source": [
        "z"
      ],
      "execution_count": null,
      "outputs": [
        {
          "output_type": "execute_result",
          "data": {
            "text/plain": [
              "90"
            ]
          },
          "metadata": {
            "tags": []
          },
          "execution_count": 36
        }
      ]
    },
    {
      "cell_type": "code",
      "metadata": {
        "id": "tXBaSQxTpMDI"
      },
      "source": [
        "a=[3,4,5,6,7,8]"
      ],
      "execution_count": null,
      "outputs": []
    },
    {
      "cell_type": "code",
      "metadata": {
        "id": "z2P-eHfspOqj"
      },
      "source": [
        "a.append(9)"
      ],
      "execution_count": null,
      "outputs": []
    },
    {
      "cell_type": "code",
      "metadata": {
        "colab": {
          "base_uri": "https://localhost:8080/"
        },
        "id": "0N5crup7pS2O",
        "outputId": "4cb32899-d537-40a1-9ca2-08ef20a5db1b"
      },
      "source": [
        "a"
      ],
      "execution_count": null,
      "outputs": [
        {
          "output_type": "execute_result",
          "data": {
            "text/plain": [
              "[3, 4, 5, 6, 7, 8, 9]"
            ]
          },
          "metadata": {
            "tags": []
          },
          "execution_count": 71
        }
      ]
    },
    {
      "cell_type": "code",
      "metadata": {
        "colab": {
          "base_uri": "https://localhost:8080/"
        },
        "id": "DhMqP6q613Bv",
        "outputId": "0a4c2697-3a52-4abf-a34b-855629ee5a2a"
      },
      "source": [
        "for x in a:\r\n",
        "  print(x)"
      ],
      "execution_count": null,
      "outputs": [
        {
          "output_type": "stream",
          "text": [
            "3\n",
            "4\n",
            "5\n",
            "6\n",
            "7\n",
            "8\n",
            "9\n"
          ],
          "name": "stdout"
        }
      ]
    },
    {
      "cell_type": "code",
      "metadata": {
        "colab": {
          "base_uri": "https://localhost:8080/"
        },
        "id": "KdsW9PLH2Bqc",
        "outputId": "abc9c7ac-c261-4de4-bb3d-44dda754781e"
      },
      "source": [
        "sum=0\r\n",
        "for x in a:\r\n",
        "  sum=sum+x\r\n",
        "print(sum)"
      ],
      "execution_count": null,
      "outputs": [
        {
          "output_type": "stream",
          "text": [
            "42\n"
          ],
          "name": "stdout"
        }
      ]
    },
    {
      "cell_type": "code",
      "metadata": {
        "colab": {
          "base_uri": "https://localhost:8080/"
        },
        "id": "pNUDi1MA2MUg",
        "outputId": "cbcdb35a-aaec-42b7-d2e7-8bfa8fa50f65"
      },
      "source": [
        "np.sum(a)"
      ],
      "execution_count": null,
      "outputs": [
        {
          "output_type": "execute_result",
          "data": {
            "text/plain": [
              "42"
            ]
          },
          "metadata": {
            "tags": []
          },
          "execution_count": 81
        }
      ]
    },
    {
      "cell_type": "code",
      "metadata": {
        "colab": {
          "base_uri": "https://localhost:8080/"
        },
        "id": "l8Mx1Ik42i2f",
        "outputId": "49de0001-d2c8-4a32-f62c-e270362711cf"
      },
      "source": [
        "sum=0\r\n",
        "for x in range(1,10):\r\n",
        "  if x%2==0:\r\n",
        "    sum+=x\r\n",
        "\r\n",
        "print(sum)"
      ],
      "execution_count": null,
      "outputs": [
        {
          "output_type": "stream",
          "text": [
            "20\n"
          ],
          "name": "stdout"
        }
      ]
    },
    {
      "cell_type": "code",
      "metadata": {
        "colab": {
          "base_uri": "https://localhost:8080/"
        },
        "id": "sojSzZII3Y1q",
        "outputId": "f76bc701-1e2a-4a11-c5db-c070c6e5b01e"
      },
      "source": [
        "n=int(input(\"Enter a number to check:\\n\"))\r\n",
        "flag=1\r\n",
        "for i in range(2,n):\r\n",
        "  if n%2==0:\r\n",
        "    flag=0\r\n",
        "    break;\r\n",
        "\r\n",
        "if flag:\r\n",
        "  print('prime')\r\n",
        "else:\r\n",
        "  print('not prime')\r\n",
        "  "
      ],
      "execution_count": null,
      "outputs": [
        {
          "output_type": "stream",
          "text": [
            "Enter a number to check:\n",
            "24\n",
            "not prime\n"
          ],
          "name": "stdout"
        }
      ]
    },
    {
      "cell_type": "code",
      "metadata": {
        "colab": {
          "base_uri": "https://localhost:8080/"
        },
        "id": "vx4NpU9863Sh",
        "outputId": "40a55fe8-ed17-4e35-add2-af8b73140191"
      },
      "source": [
        "for i in range(20,31):\r\n",
        "  if i%2==0:\r\n",
        "    continue\r\n",
        "  print(i)"
      ],
      "execution_count": null,
      "outputs": [
        {
          "output_type": "stream",
          "text": [
            "21\n",
            "23\n",
            "25\n",
            "27\n",
            "29\n"
          ],
          "name": "stdout"
        }
      ]
    },
    {
      "cell_type": "code",
      "metadata": {
        "colab": {
          "base_uri": "https://localhost:8080/"
        },
        "id": "sVFDaqmN7LgK",
        "outputId": "1b77e28d-eda5-43cd-81fb-c235dc1038ca"
      },
      "source": [
        "for i in range(20,31):\r\n",
        "  if i%2==0:\r\n",
        "    pass\r\n",
        "  else:\r\n",
        "    print(i)"
      ],
      "execution_count": null,
      "outputs": [
        {
          "output_type": "stream",
          "text": [
            "21\n",
            "23\n",
            "25\n",
            "27\n",
            "29\n"
          ],
          "name": "stdout"
        }
      ]
    },
    {
      "cell_type": "code",
      "metadata": {
        "id": "DG0wkjPK7S_X"
      },
      "source": [
        "def area(a,b):\r\n",
        "  print(a*b)"
      ],
      "execution_count": null,
      "outputs": []
    },
    {
      "cell_type": "code",
      "metadata": {
        "colab": {
          "base_uri": "https://localhost:8080/"
        },
        "id": "qRv-miI27h-T",
        "outputId": "947efbed-68f4-4984-95f5-fccd01d0ca5a"
      },
      "source": [
        "area(3,5)"
      ],
      "execution_count": null,
      "outputs": [
        {
          "output_type": "stream",
          "text": [
            "15\n"
          ],
          "name": "stdout"
        }
      ]
    },
    {
      "cell_type": "code",
      "metadata": {
        "id": "KPtAG3NW7nYb"
      },
      "source": [
        "def area(a,b):\r\n",
        "  return a*b"
      ],
      "execution_count": null,
      "outputs": []
    },
    {
      "cell_type": "code",
      "metadata": {
        "id": "TlwvfkmU7v0h"
      },
      "source": [
        "c=area(5,6)"
      ],
      "execution_count": null,
      "outputs": []
    },
    {
      "cell_type": "code",
      "metadata": {
        "colab": {
          "base_uri": "https://localhost:8080/"
        },
        "id": "bAwyfYu17zCF",
        "outputId": "43dcef70-f8a8-45af-8c24-6c13a485b9aa"
      },
      "source": [
        "c"
      ],
      "execution_count": null,
      "outputs": [
        {
          "output_type": "execute_result",
          "data": {
            "text/plain": [
              "30"
            ]
          },
          "metadata": {
            "tags": []
          },
          "execution_count": 99
        }
      ]
    },
    {
      "cell_type": "code",
      "metadata": {
        "colab": {
          "base_uri": "https://localhost:8080/"
        },
        "id": "X4MtXuYp8I5X",
        "outputId": "2542e555-461c-4279-bd10-a7286504daa5"
      },
      "source": [
        "#fibnacci series\r\n",
        "\r\n",
        "a=[]\r\n",
        "n=int(input())\r\n",
        "a.append(0)\r\n",
        "a.append(1)\r\n",
        "print(a[0],a[1])\r\n",
        "for i in range(2,n):\r\n",
        "  m=a[i-1]+a[i-2]\r\n",
        "  a.append(m)\r\n",
        "  print(a[i])"
      ],
      "execution_count": null,
      "outputs": [
        {
          "output_type": "stream",
          "text": [
            "8\n",
            "0 1\n",
            "1\n",
            "2\n",
            "3\n",
            "5\n",
            "8\n",
            "13\n"
          ],
          "name": "stdout"
        }
      ]
    },
    {
      "cell_type": "code",
      "metadata": {
        "colab": {
          "base_uri": "https://localhost:8080/"
        },
        "id": "1vkLdCzE-HtZ",
        "outputId": "53d9190a-523b-4b57-892a-14ca145c33ac"
      },
      "source": [
        "#factorial\r\n",
        "def fact(n):\r\n",
        "  prod=1\r\n",
        "  for i in range(1,n+1):\r\n",
        "    prod=prod*i\r\n",
        "  return prod\r\n",
        "  #print(prod)\r\n",
        "\r\n",
        "\r\n",
        "n=int(input())\r\n",
        "f=fact(n)\r\n",
        "print(n,f)"
      ],
      "execution_count": null,
      "outputs": [
        {
          "output_type": "stream",
          "text": [
            "5\n",
            "5 120\n"
          ],
          "name": "stdout"
        }
      ]
    },
    {
      "cell_type": "code",
      "metadata": {
        "id": "TSfxWFEypUiP"
      },
      "source": [
        "a.pop()"
      ],
      "execution_count": null,
      "outputs": []
    },
    {
      "cell_type": "code",
      "metadata": {
        "id": "WUPT_ekg62A-"
      },
      "source": [
        ""
      ],
      "execution_count": null,
      "outputs": []
    },
    {
      "cell_type": "code",
      "metadata": {
        "colab": {
          "base_uri": "https://localhost:8080/"
        },
        "id": "4rnxCEYBpXrk",
        "outputId": "6733e78c-226a-417b-b8f0-41f8d9bc313f"
      },
      "source": [
        "a.pop(4)"
      ],
      "execution_count": null,
      "outputs": [
        {
          "output_type": "execute_result",
          "data": {
            "text/plain": [
              "7"
            ]
          },
          "metadata": {
            "tags": []
          },
          "execution_count": 24
        }
      ]
    },
    {
      "cell_type": "code",
      "metadata": {
        "colab": {
          "base_uri": "https://localhost:8080/"
        },
        "id": "8-NE6zK7pq08",
        "outputId": "5c80500e-1b9d-45ae-fd8d-1541e13e1c11"
      },
      "source": [
        "sys.getsizeof(a)"
      ],
      "execution_count": null,
      "outputs": [
        {
          "output_type": "execute_result",
          "data": {
            "text/plain": [
              "144"
            ]
          },
          "metadata": {
            "tags": []
          },
          "execution_count": 26
        }
      ]
    },
    {
      "cell_type": "code",
      "metadata": {
        "id": "LWP8wtkWsA5_"
      },
      "source": [
        ""
      ],
      "execution_count": null,
      "outputs": []
    },
    {
      "cell_type": "code",
      "metadata": {
        "id": "7Al8TVQHpvRx"
      },
      "source": [
        "import sys"
      ],
      "execution_count": null,
      "outputs": []
    },
    {
      "cell_type": "code",
      "metadata": {
        "colab": {
          "base_uri": "https://localhost:8080/"
        },
        "id": "N-GSbw5asB8U",
        "outputId": "7906098c-fc19-43a2-c410-a65bf0c28161"
      },
      "source": [
        "if x<y:\r\n",
        "  print('x<y')\r\n",
        "elif x>y:\r\n",
        "  print('x>y')\r\n",
        "else:\r\n",
        "  print('x==y')"
      ],
      "execution_count": null,
      "outputs": [
        {
          "output_type": "stream",
          "text": [
            "x<y\n"
          ],
          "name": "stdout"
        }
      ]
    },
    {
      "cell_type": "code",
      "metadata": {
        "colab": {
          "base_uri": "https://localhost:8080/"
        },
        "id": "IDc1PHWsuRO2",
        "outputId": "69379252-7845-4a02-f862-4bdd27e6be5d"
      },
      "source": [
        "if x%2==0:\r\n",
        "  print(\"Even\")\r\n",
        "else:\r\n",
        "  print(\"Odd\")"
      ],
      "execution_count": null,
      "outputs": [
        {
          "output_type": "stream",
          "text": [
            "Even\n"
          ],
          "name": "stdout"
        }
      ]
    },
    {
      "cell_type": "code",
      "metadata": {
        "colab": {
          "base_uri": "https://localhost:8080/"
        },
        "id": "7gxYZu7yvCJ9",
        "outputId": "a8ffb91e-e29a-47e7-8a13-abc3f7ae6273"
      },
      "source": [
        "#max \r\n",
        "if x<y:\r\n",
        "  if y>z:\r\n",
        "    max=y\r\n",
        "  else:\r\n",
        "    max=z\r\n",
        "\r\n",
        "else:\r\n",
        "  if x>z:\r\n",
        "    max=x\r\n",
        "  else:\r\n",
        "    max=z\r\n",
        "print(max)\r\n"
      ],
      "execution_count": null,
      "outputs": [
        {
          "output_type": "stream",
          "text": [
            "134\n"
          ],
          "name": "stdout"
        }
      ]
    },
    {
      "cell_type": "code",
      "metadata": {
        "colab": {
          "base_uri": "https://localhost:8080/"
        },
        "id": "dz-BSgWZARNM",
        "outputId": "44cc8c66-07bf-4b10-b05b-8ecf31bff032"
      },
      "source": [
        "def func(*n):\r\n",
        "  sum=0\r\n",
        "  for i in n:\r\n",
        "    sum=sum+i\r\n",
        "  return sum,i\r\n",
        "\r\n",
        "s=func(4,7,2,4)\r\n",
        "print(s)"
      ],
      "execution_count": null,
      "outputs": [
        {
          "output_type": "stream",
          "text": [
            "(17, 4)\n"
          ],
          "name": "stdout"
        }
      ]
    },
    {
      "cell_type": "code",
      "metadata": {
        "colab": {
          "base_uri": "https://localhost:8080/"
        },
        "id": "OJtAup3uBn8F",
        "outputId": "409c64ea-5ab0-469b-e0e7-ef23b9ec754c"
      },
      "source": [
        "#keyword argument\r\n",
        "def func(m,*n,**l):\r\n",
        "  print(l)\r\n",
        "\r\n",
        "\r\n",
        "func(23,'bithi',67,[2,4],name='bithi',age=67)\r\n"
      ],
      "execution_count": null,
      "outputs": [
        {
          "output_type": "stream",
          "text": [
            "{'name': 'bithi', 'age': 67}\n"
          ],
          "name": "stdout"
        }
      ]
    },
    {
      "cell_type": "code",
      "metadata": {
        "id": "V6w1urfSxUay"
      },
      "source": [
        "a=45\r\n",
        "b=5"
      ],
      "execution_count": null,
      "outputs": []
    },
    {
      "cell_type": "code",
      "metadata": {
        "colab": {
          "base_uri": "https://localhost:8080/"
        },
        "id": "tjqKJHaTxaUy",
        "outputId": "f929d117-cb2a-4e2d-f337-f773f095e0f1"
      },
      "source": [
        "#try catch\r\n",
        "\r\n",
        "try:\r\n",
        "  c=a/b\r\n",
        "except Exception as e:\r\n",
        "  print('Exception',e)\r\n",
        "finally:\r\n",
        "  print('resource closed!')\r\n",
        "print(c)"
      ],
      "execution_count": null,
      "outputs": [
        {
          "output_type": "stream",
          "text": [
            "resource closed!\n",
            "9.0\n"
          ],
          "name": "stdout"
        }
      ]
    },
    {
      "cell_type": "code",
      "metadata": {
        "id": "QKV9HZ0cz9XT"
      },
      "source": [
        "import math"
      ],
      "execution_count": null,
      "outputs": []
    },
    {
      "cell_type": "code",
      "metadata": {
        "id": "i09IS6rI0EtV"
      },
      "source": [
        "x=4"
      ],
      "execution_count": null,
      "outputs": []
    },
    {
      "cell_type": "code",
      "metadata": {
        "colab": {
          "base_uri": "https://localhost:8080/"
        },
        "id": "JrNj6CIU0Bxy",
        "outputId": "7386d33a-850e-43cd-f333-9986da47841f"
      },
      "source": [
        "print(math.pow(x,2))"
      ],
      "execution_count": null,
      "outputs": [
        {
          "output_type": "stream",
          "text": [
            "16.0\n"
          ],
          "name": "stdout"
        }
      ]
    },
    {
      "cell_type": "code",
      "metadata": {
        "colab": {
          "base_uri": "https://localhost:8080/"
        },
        "id": "DWu8LjdN0ON_",
        "outputId": "0c676619-f900-45a8-ca6e-9265c2625406"
      },
      "source": [
        "print(math.sqrt(x))"
      ],
      "execution_count": null,
      "outputs": [
        {
          "output_type": "stream",
          "text": [
            "2.0\n"
          ],
          "name": "stdout"
        }
      ]
    },
    {
      "cell_type": "code",
      "metadata": {
        "colab": {
          "base_uri": "https://localhost:8080/"
        },
        "id": "vC4YW89L0S6J",
        "outputId": "13373278-6a14-493a-be1b-e998a16c28a0"
      },
      "source": [
        "print(math.pi)"
      ],
      "execution_count": null,
      "outputs": [
        {
          "output_type": "stream",
          "text": [
            "3.141592653589793\n"
          ],
          "name": "stdout"
        }
      ]
    },
    {
      "cell_type": "code",
      "metadata": {
        "colab": {
          "base_uri": "https://localhost:8080/"
        },
        "id": "WnnC9JIj0f-p",
        "outputId": "21739c87-7f35-492c-ddae-5b3f5bb59b22"
      },
      "source": [
        "print(math.inf)"
      ],
      "execution_count": null,
      "outputs": [
        {
          "output_type": "stream",
          "text": [
            "inf\n"
          ],
          "name": "stdout"
        }
      ]
    },
    {
      "cell_type": "code",
      "metadata": {
        "colab": {
          "base_uri": "https://localhost:8080/"
        },
        "id": "gyNg8rPp0kyD",
        "outputId": "22654f00-b323-4812-c0cd-c6101ba46c56"
      },
      "source": [
        "print(math.e)"
      ],
      "execution_count": null,
      "outputs": [
        {
          "output_type": "stream",
          "text": [
            "2.718281828459045\n"
          ],
          "name": "stdout"
        }
      ]
    },
    {
      "cell_type": "code",
      "metadata": {
        "colab": {
          "base_uri": "https://localhost:8080/"
        },
        "id": "adggMLJd0oKj",
        "outputId": "b86ba3c1-f939-433d-8cb3-b3748d34518d"
      },
      "source": [
        "print(math.nan)"
      ],
      "execution_count": null,
      "outputs": [
        {
          "output_type": "stream",
          "text": [
            "nan\n"
          ],
          "name": "stdout"
        }
      ]
    },
    {
      "cell_type": "code",
      "metadata": {
        "colab": {
          "base_uri": "https://localhost:8080/"
        },
        "id": "4xBKKz_G0r4v",
        "outputId": "45043c18-7f13-4ddb-d4f3-35d3fe291fca"
      },
      "source": [
        "print(math.floor(45.7))"
      ],
      "execution_count": null,
      "outputs": [
        {
          "output_type": "stream",
          "text": [
            "45\n"
          ],
          "name": "stdout"
        }
      ]
    },
    {
      "cell_type": "code",
      "metadata": {
        "colab": {
          "base_uri": "https://localhost:8080/"
        },
        "id": "WogBOZLN0xUH",
        "outputId": "1596b69b-b479-4ed1-c79c-2af77ca78c44"
      },
      "source": [
        "print(math.ceil(45.2))"
      ],
      "execution_count": null,
      "outputs": [
        {
          "output_type": "stream",
          "text": [
            "46\n"
          ],
          "name": "stdout"
        }
      ]
    },
    {
      "cell_type": "code",
      "metadata": {
        "colab": {
          "base_uri": "https://localhost:8080/"
        },
        "id": "o7zDHKwm03y5",
        "outputId": "2cbe894f-7190-4b33-fe89-4f2e2a05a04d"
      },
      "source": [
        "print(math.factorial(x))"
      ],
      "execution_count": null,
      "outputs": [
        {
          "output_type": "stream",
          "text": [
            "24\n"
          ],
          "name": "stdout"
        }
      ]
    },
    {
      "cell_type": "code",
      "metadata": {
        "colab": {
          "base_uri": "https://localhost:8080/"
        },
        "id": "pdvtrzFj1QqQ",
        "outputId": "b2f3c230-9a8f-4376-d27a-757765959293"
      },
      "source": [
        "print(math.sinh(30))"
      ],
      "execution_count": null,
      "outputs": [
        {
          "output_type": "stream",
          "text": [
            "5343237290762.231\n"
          ],
          "name": "stdout"
        }
      ]
    },
    {
      "cell_type": "code",
      "metadata": {
        "id": "jAXBKmzPxaob"
      },
      "source": [
        "import numpy as np"
      ],
      "execution_count": 129,
      "outputs": []
    },
    {
      "cell_type": "code",
      "metadata": {
        "id": "GIdEVHv5SMZK"
      },
      "source": [
        "a=np.array([[2,3,4,5],\r\n",
        "         [3,5,6,7]])"
      ],
      "execution_count": 131,
      "outputs": []
    },
    {
      "cell_type": "code",
      "metadata": {
        "colab": {
          "base_uri": "https://localhost:8080/"
        },
        "id": "vzs8iA2mxmB8",
        "outputId": "e5bf3fe8-c740-42b1-a564-6ef4a6e8456a"
      },
      "source": [
        "a"
      ],
      "execution_count": 132,
      "outputs": [
        {
          "output_type": "execute_result",
          "data": {
            "text/plain": [
              "array([[2, 3, 4, 5],\n",
              "       [3, 5, 6, 7]])"
            ]
          },
          "metadata": {
            "tags": []
          },
          "execution_count": 132
        }
      ]
    },
    {
      "cell_type": "code",
      "metadata": {
        "colab": {
          "base_uri": "https://localhost:8080/"
        },
        "id": "On_2JUmsX9lM",
        "outputId": "20720d27-51d5-45d6-b347-42a68702e464"
      },
      "source": [
        "a.ndim"
      ],
      "execution_count": 133,
      "outputs": [
        {
          "output_type": "execute_result",
          "data": {
            "text/plain": [
              "2"
            ]
          },
          "metadata": {
            "tags": []
          },
          "execution_count": 133
        }
      ]
    },
    {
      "cell_type": "code",
      "metadata": {
        "colab": {
          "base_uri": "https://localhost:8080/"
        },
        "id": "3eV7AiDdX94A",
        "outputId": "dd986257-5532-46f9-a07b-54746b844e3c"
      },
      "source": [
        "a.size"
      ],
      "execution_count": 134,
      "outputs": [
        {
          "output_type": "execute_result",
          "data": {
            "text/plain": [
              "8"
            ]
          },
          "metadata": {
            "tags": []
          },
          "execution_count": 134
        }
      ]
    },
    {
      "cell_type": "code",
      "metadata": {
        "colab": {
          "base_uri": "https://localhost:8080/"
        },
        "id": "4fM3JwRDyOi8",
        "outputId": "a80c75e2-e6dd-42a6-fbbb-c41f20ecaaee"
      },
      "source": [
        "a.shape"
      ],
      "execution_count": 135,
      "outputs": [
        {
          "output_type": "execute_result",
          "data": {
            "text/plain": [
              "(2, 4)"
            ]
          },
          "metadata": {
            "tags": []
          },
          "execution_count": 135
        }
      ]
    },
    {
      "cell_type": "code",
      "metadata": {
        "colab": {
          "base_uri": "https://localhost:8080/"
        },
        "id": "yShag82EyTvJ",
        "outputId": "8efa9757-c987-4830-84b7-9bcbcf5b5ef9"
      },
      "source": [
        "a.flatten()"
      ],
      "execution_count": 136,
      "outputs": [
        {
          "output_type": "execute_result",
          "data": {
            "text/plain": [
              "array([2, 3, 4, 5, 3, 5, 6, 7])"
            ]
          },
          "metadata": {
            "tags": []
          },
          "execution_count": 136
        }
      ]
    },
    {
      "cell_type": "code",
      "metadata": {
        "colab": {
          "base_uri": "https://localhost:8080/"
        },
        "id": "WLunH73z0Yg8",
        "outputId": "07b2d465-70fc-422d-f078-f6e3560cd056"
      },
      "source": [
        "a.reshape(2,4)"
      ],
      "execution_count": 137,
      "outputs": [
        {
          "output_type": "execute_result",
          "data": {
            "text/plain": [
              "array([[2, 3, 4, 5],\n",
              "       [3, 5, 6, 7]])"
            ]
          },
          "metadata": {
            "tags": []
          },
          "execution_count": 137
        }
      ]
    },
    {
      "cell_type": "code",
      "metadata": {
        "colab": {
          "base_uri": "https://localhost:8080/"
        },
        "id": "ejsrhmKv2GhP",
        "outputId": "bcc19663-3250-4ad4-98f8-d36f798e08ed"
      },
      "source": [
        "a=np.array([[1,2,3],[4,5,6]])\r\n",
        "a"
      ],
      "execution_count": 138,
      "outputs": [
        {
          "output_type": "execute_result",
          "data": {
            "text/plain": [
              "array([[1, 2, 3],\n",
              "       [4, 5, 6]])"
            ]
          },
          "metadata": {
            "tags": []
          },
          "execution_count": 138
        }
      ]
    },
    {
      "cell_type": "code",
      "metadata": {
        "colab": {
          "base_uri": "https://localhost:8080/"
        },
        "id": "7KQJuLUu2T3q",
        "outputId": "1e0e7881-4963-47f7-deb3-a262f9612516"
      },
      "source": [
        "b=np.array([[6,7],[8,9],[3,1]])\r\n",
        "b"
      ],
      "execution_count": 139,
      "outputs": [
        {
          "output_type": "execute_result",
          "data": {
            "text/plain": [
              "array([[6, 7],\n",
              "       [8, 9],\n",
              "       [3, 1]])"
            ]
          },
          "metadata": {
            "tags": []
          },
          "execution_count": 139
        }
      ]
    },
    {
      "cell_type": "code",
      "metadata": {
        "colab": {
          "base_uri": "https://localhost:8080/"
        },
        "id": "sn5r6gwa2nDa",
        "outputId": "7a1b4c93-9aa6-4f27-f82a-b9a91cddd443"
      },
      "source": [
        "c=np.dot(a,b)\r\n",
        "c"
      ],
      "execution_count": 140,
      "outputs": [
        {
          "output_type": "execute_result",
          "data": {
            "text/plain": [
              "array([[31, 28],\n",
              "       [82, 79]])"
            ]
          },
          "metadata": {
            "tags": []
          },
          "execution_count": 140
        }
      ]
    },
    {
      "cell_type": "code",
      "metadata": {
        "colab": {
          "base_uri": "https://localhost:8080/"
        },
        "id": "pvOtX-Qj233v",
        "outputId": "4dc77602-f605-402c-f38b-6700bbc3b04b"
      },
      "source": [
        "c=np.array([[2,3,4],[6,8,9]])\r\n",
        "c"
      ],
      "execution_count": 141,
      "outputs": [
        {
          "output_type": "execute_result",
          "data": {
            "text/plain": [
              "array([[2, 3, 4],\n",
              "       [6, 8, 9]])"
            ]
          },
          "metadata": {
            "tags": []
          },
          "execution_count": 141
        }
      ]
    },
    {
      "cell_type": "code",
      "metadata": {
        "colab": {
          "base_uri": "https://localhost:8080/"
        },
        "id": "s9Fdln3-3DUF",
        "outputId": "4184d3ba-dfbb-4310-c164-5b35e9fb8865"
      },
      "source": [
        "a+c"
      ],
      "execution_count": 142,
      "outputs": [
        {
          "output_type": "execute_result",
          "data": {
            "text/plain": [
              "array([[ 3,  5,  7],\n",
              "       [10, 13, 15]])"
            ]
          },
          "metadata": {
            "tags": []
          },
          "execution_count": 142
        }
      ]
    },
    {
      "cell_type": "code",
      "metadata": {
        "colab": {
          "base_uri": "https://localhost:8080/"
        },
        "id": "O_TAq8Fg3Ifa",
        "outputId": "4744661d-1f77-43be-bbce-d94ba419a6fb"
      },
      "source": [
        "np.add(a,c)"
      ],
      "execution_count": 144,
      "outputs": [
        {
          "output_type": "execute_result",
          "data": {
            "text/plain": [
              "array([[ 3,  5,  7],\n",
              "       [10, 13, 15]])"
            ]
          },
          "metadata": {
            "tags": []
          },
          "execution_count": 144
        }
      ]
    },
    {
      "cell_type": "code",
      "metadata": {
        "colab": {
          "base_uri": "https://localhost:8080/"
        },
        "id": "pNeQbOxT3Omi",
        "outputId": "318e78e0-082c-4626-ad2f-18bec3453e0a"
      },
      "source": [
        "np.subtract(c,a)"
      ],
      "execution_count": 145,
      "outputs": [
        {
          "output_type": "execute_result",
          "data": {
            "text/plain": [
              "array([[1, 1, 1],\n",
              "       [2, 3, 3]])"
            ]
          },
          "metadata": {
            "tags": []
          },
          "execution_count": 145
        }
      ]
    },
    {
      "cell_type": "code",
      "metadata": {
        "colab": {
          "base_uri": "https://localhost:8080/"
        },
        "id": "kfb57MXa3Tmq",
        "outputId": "2d07798c-1dea-4b83-d6d2-ec745ea75176"
      },
      "source": [
        "np.multiply(a,c)"
      ],
      "execution_count": 146,
      "outputs": [
        {
          "output_type": "execute_result",
          "data": {
            "text/plain": [
              "array([[ 2,  6, 12],\n",
              "       [24, 40, 54]])"
            ]
          },
          "metadata": {
            "tags": []
          },
          "execution_count": 146
        }
      ]
    },
    {
      "cell_type": "code",
      "metadata": {
        "colab": {
          "base_uri": "https://localhost:8080/"
        },
        "id": "VgCDRy0M3Xbj",
        "outputId": "768b4bc6-66cd-4ac1-af8b-bc0315e58de7"
      },
      "source": [
        "np.dot(a,b)"
      ],
      "execution_count": 147,
      "outputs": [
        {
          "output_type": "execute_result",
          "data": {
            "text/plain": [
              "array([[31, 28],\n",
              "       [82, 79]])"
            ]
          },
          "metadata": {
            "tags": []
          },
          "execution_count": 147
        }
      ]
    },
    {
      "cell_type": "code",
      "metadata": {
        "colab": {
          "base_uri": "https://localhost:8080/"
        },
        "id": "gL0zIw4k5OTI",
        "outputId": "da15aea7-09d3-4c4b-91a0-54337d5dae57"
      },
      "source": [
        "def func(x,y=5):\r\n",
        "  print(x**y)\r\n",
        "\r\n",
        "func(2,4)\r\n",
        "func(2)"
      ],
      "execution_count": 148,
      "outputs": [
        {
          "output_type": "stream",
          "text": [
            "16\n",
            "32\n"
          ],
          "name": "stdout"
        }
      ]
    },
    {
      "cell_type": "code",
      "metadata": {
        "colab": {
          "base_uri": "https://localhost:8080/"
        },
        "id": "sDF5H0om5176",
        "outputId": "87957a5f-3f33-4733-a6f4-2fb189a2b527"
      },
      "source": [
        "#recursion\r\n",
        "\r\n",
        "def fact(n):\r\n",
        "  if n<=1:\r\n",
        "    return 1\r\n",
        "  else:\r\n",
        "    return n*fact(n-1)\r\n",
        "\r\n",
        "fact(4)"
      ],
      "execution_count": 150,
      "outputs": [
        {
          "output_type": "execute_result",
          "data": {
            "text/plain": [
              "24"
            ]
          },
          "metadata": {
            "tags": []
          },
          "execution_count": 150
        }
      ]
    },
    {
      "cell_type": "code",
      "metadata": {
        "colab": {
          "base_uri": "https://localhost:8080/"
        },
        "id": "TxfUn3Vy8fNK",
        "outputId": "47a6eb11-e9e3-4768-c491-aa8eddc60a29"
      },
      "source": [
        "y=(lambda x:x**2)(5)\r\n",
        "y"
      ],
      "execution_count": 151,
      "outputs": [
        {
          "output_type": "execute_result",
          "data": {
            "text/plain": [
              "25"
            ]
          },
          "metadata": {
            "tags": []
          },
          "execution_count": 151
        }
      ]
    },
    {
      "cell_type": "code",
      "metadata": {
        "colab": {
          "base_uri": "https://localhost:8080/"
        },
        "id": "c4_htLo48o0x",
        "outputId": "640014c0-5975-4df8-f177-4228055e42e9"
      },
      "source": [
        "y=(lambda x,y,z:x*y*z)(3,5,2)\r\n",
        "y"
      ],
      "execution_count": 153,
      "outputs": [
        {
          "output_type": "execute_result",
          "data": {
            "text/plain": [
              "30"
            ]
          },
          "metadata": {
            "tags": []
          },
          "execution_count": 153
        }
      ]
    },
    {
      "cell_type": "code",
      "metadata": {
        "colab": {
          "base_uri": "https://localhost:8080/"
        },
        "id": "6ExX1AmE86ei",
        "outputId": "d663c406-480b-4b01-e514-c328b37bbe0b"
      },
      "source": [
        "#zip unzip\r\n",
        "\r\n",
        "x=['name','age','dept']\r\n",
        "y=['Nasima',23,'CSE']\r\n",
        "p=[2,4,5]\r\n",
        "\r\n",
        "z=list(zip('123',x,y,p))\r\n",
        "z\r\n"
      ],
      "execution_count": 165,
      "outputs": [
        {
          "output_type": "execute_result",
          "data": {
            "text/plain": [
              "[('1', 'name', 'Nasima', 2), ('2', 'age', 23, 4), ('3', 'dept', 'CSE', 5)]"
            ]
          },
          "metadata": {
            "tags": []
          },
          "execution_count": 165
        }
      ]
    },
    {
      "cell_type": "code",
      "metadata": {
        "colab": {
          "base_uri": "https://localhost:8080/"
        },
        "id": "1HkSt8lX9z_G",
        "outputId": "c5f758d4-9e56-4411-bc7a-15686245d9a2"
      },
      "source": [
        "q=list(zip(*z))\r\n",
        "q"
      ],
      "execution_count": 163,
      "outputs": [
        {
          "output_type": "execute_result",
          "data": {
            "text/plain": [
              "[('1', '2', '3'), ('name', 'age', 'dept'), ('Nasima', 23, 'CSE'), (2, 4, 5)]"
            ]
          },
          "metadata": {
            "tags": []
          },
          "execution_count": 163
        }
      ]
    }
  ]
}